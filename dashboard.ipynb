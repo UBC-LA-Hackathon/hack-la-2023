{
 "cells": [
  {
   "cell_type": "markdown",
   "id": "af63c07f-3612-4526-a895-39aefc102aa5",
   "metadata": {},
   "source": [
    "## Dashboard for displaying visualizations"
   ]
  },
  {
   "cell_type": "code",
   "execution_count": 60,
   "id": "39bd9500-208d-438e-8e92-ab5be8d3e19f",
   "metadata": {},
   "outputs": [],
   "source": [
    "import numpy as np\n",
    "import pandas as pd\n",
    "import altair as alt\n",
    "from dash import dash, dcc, html, Input, Output\n",
    "from altair import datum"
   ]
  },
  {
   "cell_type": "code",
   "execution_count": 34,
   "id": "ee13f475-be21-475e-98d5-1312980c0438",
   "metadata": {},
   "outputs": [],
   "source": [
    "nav_events = pd.read_csv('hackathon_alternate_data/navigation_events.csv')\n",
    "disc = pd.read_csv('hackathon_alternate_data/additional/discussions.csv')\n",
    "disc_dates = pd.read_csv('hackathon_alternate_data/additional/discussion_topics.csv')"
   ]
  },
  {
   "cell_type": "code",
   "execution_count": 38,
   "id": "77c45e83-d83d-4718-9fc1-341aa2942802",
   "metadata": {},
   "outputs": [],
   "source": [
    "disc['timestamp'] = pd.to_datetime(disc['timestamp'])\n",
    "disc['date'] = disc['timestamp'].dt.normalize()#date\n",
    "disc_merged = disc.merge(disc_dates[['title','todo_date_date']],how='inner',left_on='discussion_topic_title',right_on='title')"
   ]
  },
  {
   "cell_type": "code",
   "execution_count": 68,
   "id": "f07ca127-3151-45b9-96fe-a2430b995ba3",
   "metadata": {},
   "outputs": [
    {
     "data": {
      "text/html": [
       "\n",
       "        <iframe\n",
       "            width=\"100%\"\n",
       "            height=\"650\"\n",
       "            src=\"http://127.0.0.1:8050/\"\n",
       "            frameborder=\"0\"\n",
       "            allowfullscreen\n",
       "            \n",
       "        ></iframe>\n",
       "        "
      ],
      "text/plain": [
       "<IPython.lib.display.IFrame at 0x136028dc880>"
      ]
     },
     "metadata": {},
     "output_type": "display_data"
    }
   ],
   "source": [
    "# Plot hist of assignment submission dates\n",
    "def plot_altair(assignment):\n",
    "    chart = alt.Chart(disc_merged).mark_bar().encode(\n",
    "        alt.X('date:T').title(\"Date\"),\n",
    "        alt.Y('count(x):N').title(\"Number of Submissions\")).transform_filter(datum.discussion_topic_title == assignment)\n",
    "    line = chart.mark_rule(color='red').encode(x = 'todo_date_date:T')\n",
    "    return (chart+line).to_html()\n",
    "\n",
    "assignments = disc['discussion_topic_title'].unique()\n",
    "\n",
    "# Set up dashboard\n",
    "app = dash.Dash(__name__, external_stylesheets=['https://codepen.io/chriddyp/pen/bWLwgP.css'])\n",
    "\n",
    "app.layout = html.Div([\n",
    "    dcc.Tabs([\n",
    "        dcc.Tab(label='Tab one', children=[\n",
    "            dcc.Dropdown(\n",
    "            id='assignment', value='Discussion 1: The meaning of eLearning',\n",
    "            options=[{'label': i, 'value': i} for i in assignments]),\n",
    "        html.Iframe(\n",
    "            id='scatter',\n",
    "            style={'border-width': '0', 'width': '100%', 'height': '400px'},\n",
    "            srcDoc=plot_altair(assignment='Discussion 1: The meaning of eLearning'))]),\n",
    "        dcc.Tab(label='Tab two', children=[\n",
    "            dcc.Graph(\n",
    "                figure={\n",
    "                    'data': [\n",
    "                        {'x': [1, 2, 3], 'y': [1, 4, 1],\n",
    "                            'type': 'bar', 'name': 'SF'},\n",
    "                        {'x': [1, 2, 3], 'y': [1, 2, 3],\n",
    "                         'type': 'bar', 'name': 'Montréal'},\n",
    "                    ]\n",
    "                }\n",
    "            )\n",
    "        ]),\n",
    "        dcc.Tab(label='Tab three', children=[\n",
    "            dcc.Graph(\n",
    "                figure={\n",
    "                    'data': [\n",
    "                        {'x': [1, 2, 3], 'y': [2, 4, 3],\n",
    "                            'type': 'bar', 'name': 'SF'},\n",
    "                        {'x': [1, 2, 3], 'y': [5, 4, 3],\n",
    "                         'type': 'bar', 'name': 'Montréal'},\n",
    "                    ]\n",
    "                }\n",
    "            )\n",
    "        ]),\n",
    "    ])    \n",
    "])\n",
    "\n",
    "@app.callback(\n",
    "    Output('scatter', 'srcDoc'),\n",
    "    Input('assignment', 'value'))\n",
    "def update_output(assignments):\n",
    "    return plot_altair(assignments)\n",
    "\n",
    "if __name__ == '__main__':\n",
    "    app.run_server(debug=True) "
   ]
  },
  {
   "cell_type": "code",
   "execution_count": null,
   "id": "c8dae914-476e-4618-8443-2f2f8cbf558c",
   "metadata": {},
   "outputs": [],
   "source": []
  }
 ],
 "metadata": {
  "kernelspec": {
   "display_name": "Python [conda env:571]",
   "language": "python",
   "name": "conda-env-571-py"
  },
  "language_info": {
   "codemirror_mode": {
    "name": "ipython",
    "version": 3
   },
   "file_extension": ".py",
   "mimetype": "text/x-python",
   "name": "python",
   "nbconvert_exporter": "python",
   "pygments_lexer": "ipython3",
   "version": "3.10.0"
  }
 },
 "nbformat": 4,
 "nbformat_minor": 5
}
