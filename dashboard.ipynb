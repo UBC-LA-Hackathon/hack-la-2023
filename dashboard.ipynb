{
 "cells": [
  {
   "cell_type": "markdown",
   "id": "af63c07f-3612-4526-a895-39aefc102aa5",
   "metadata": {},
   "source": [
    "## Dashboard for displaying visualizations"
   ]
  },
  {
   "cell_type": "code",
   "execution_count": 84,
   "id": "39bd9500-208d-438e-8e92-ab5be8d3e19f",
   "metadata": {},
   "outputs": [],
   "source": [
    "import numpy as np\n",
    "import pandas as pd\n",
    "import altair as alt\n",
    "from dash import dash, dcc, html, Input, Output\n",
    "from altair import datum\n",
    "import os\n",
    "import json"
   ]
  },
  {
   "cell_type": "code",
   "execution_count": 34,
   "id": "ee13f475-be21-475e-98d5-1312980c0438",
   "metadata": {},
   "outputs": [],
   "source": [
    "nav_events = pd.read_csv('hackathon_alternate_data/navigation_events.csv')\n",
    "disc = pd.read_csv('hackathon_alternate_data/additional/discussions.csv')\n",
    "disc_dates = pd.read_csv('hackathon_alternate_data/additional/discussion_topics.csv')"
   ]
  },
  {
   "cell_type": "code",
   "execution_count": 38,
   "id": "77c45e83-d83d-4718-9fc1-341aa2942802",
   "metadata": {},
   "outputs": [],
   "source": [
    "disc['timestamp'] = pd.to_datetime(disc['timestamp'])\n",
    "disc['date'] = disc['timestamp'].dt.normalize()#date\n",
    "disc_merged = disc.merge(disc_dates[['title','todo_date_date']],how='inner',left_on='discussion_topic_title',right_on='title')"
   ]
  },
  {
   "cell_type": "code",
   "execution_count": 121,
   "id": "2e4e011b-bb26-44c2-af54-7f69dce15db3",
   "metadata": {},
   "outputs": [],
   "source": [
    "# Plot hist of assignment submission dates\n",
    "def plot_altair(discussion_topic):\n",
    "    chart = alt.Chart(disc_merged).mark_bar().encode(\n",
    "        alt.X('date:T').title(\"Date\"),\n",
    "        alt.Y('count(x):N').title(\"Number of Submissions\")).transform_filter(datum.discussion_topic_title == discussion_topic)\n",
    "    line = chart.mark_rule(color='red').encode(x = 'todo_date_date:T')\n",
    "    return (chart+line).to_html()"
   ]
  },
  {
   "cell_type": "code",
   "execution_count": 126,
   "id": "9565e1d2-c049-402c-bcc0-b2835f98bd20",
   "metadata": {},
   "outputs": [],
   "source": [
    "# Simon's cumulative assignment view viz + data cleaning\n",
    "assignments = pd.read_csv(\"hackathon_alternate_data/additional/assignments.csv\")\n",
    "navigation_events = pd.read_csv(\"hackathon_alternate_data/navigation_events.csv\")\n",
    "enrollments = pd.read_csv(\"hackathon_alternate_data/additional/enrollments.csv\")\n",
    "\n",
    "# drop strange/na columns\n",
    "navigation_events.drop(columns=[\"ed_app\", \"type\", \"action\", \"course_offering_id\", \"statement_type\", \"statement_version\", \"event__object_type\", \"event__object_extensions_asset_subtype\", \"event__object_extensions_entity_id\", \"event__referrer\", \"event__extensions_request_url\", \"event__attachment_type\"], inplace=True)\n",
    "# drop learners that are not enrolled in the course\n",
    "navigation_events = navigation_events.iloc[np.in1d(navigation_events.actor_id, enrollments.user_id), :]\n",
    "navigation_events = navigation_events.query(\"actor_id != 'LEARNER_48'\")\n",
    "navigation_events.loc[:, \"event_time\"] = pd.to_datetime(navigation_events.loc[:, \"event_time\"], format='ISO8601').dt.normalize()\n",
    "\n",
    "df_assignments = assignments.drop(columns=[\"unlock_at\", \"lock_at\", \"grading_type\", \"position\"]).query(\"has_submitted_submissions == True\")\n",
    "df_assignments[\"due_at\"] = pd.to_datetime(df_assignments[\"due_at\"])\n",
    "\n",
    "def plot_cumulative_assignment_view(assignment_name):\n",
    "    \n",
    "    ## Drawing\n",
    "    tmp_assignment = df_assignments.query(\"name == @assignment_name\")\n",
    "    tmp_assignment_due_date = tmp_assignment.due_at\n",
    "    tmp_first_accessed = navigation_events.query(\"object_id == @tmp_assignment.id.iloc[0]\")[[\"actor_id\", \"event_time\"]]\n",
    "    tmp_first_accessed = tmp_first_accessed.sort_values([\"actor_id\", \"event_time\"]).groupby(\"actor_id\").first().sort_values(\"event_time\")\n",
    "    \n",
    "    tmp_first_accessed = tmp_first_accessed.reset_index()\n",
    "    tmp_first_accessed['event_time'] = pd.to_datetime(tmp_first_accessed['event_time'])\n",
    "    chart = alt.Chart(tmp_first_accessed).transform_window(\n",
    "        ecdf=\"cume_dist()\",\n",
    "        sort=[{\"field\": \"event_time\"}],\n",
    "    ).mark_line().encode( #interpolate=\"step-after\"\n",
    "        x=alt.X(\"event_time:T\").scale(domain=[tmp_first_accessed.event_time.iloc[0] - pd.Timedelta(days=7),  tmp_assignment.due_at.iloc[0] + pd.Timedelta(days=7)]),\n",
    "        y=alt.Y(\"ecdf:Q\").scale(domain=[0, 1.1]).title(\"Assignment View %\"), \n",
    "    )\n",
    "    chart = chart + alt.Chart(tmp_assignment).mark_rule().encode(x = alt.X(\"due_at\").title(None))\n",
    "    return chart.properties(width=400, height=200).to_html()\n",
    "\n",
    "#plot_cumulative_assignment_view(Assignment 1\")"
   ]
  },
  {
   "cell_type": "code",
   "execution_count": 128,
   "id": "f07ca127-3151-45b9-96fe-a2430b995ba3",
   "metadata": {},
   "outputs": [
    {
     "data": {
      "text/html": [
       "\n",
       "        <iframe\n",
       "            width=\"100%\"\n",
       "            height=\"650\"\n",
       "            src=\"http://127.0.0.1:8050/\"\n",
       "            frameborder=\"0\"\n",
       "            allowfullscreen\n",
       "            \n",
       "        ></iframe>\n",
       "        "
      ],
      "text/plain": [
       "<IPython.lib.display.IFrame at 0x1360c0a9690>"
      ]
     },
     "metadata": {},
     "output_type": "display_data"
    }
   ],
   "source": [
    "# Set up dashboard\n",
    "app = dash.Dash(__name__, external_stylesheets=['https://codepen.io/chriddyp/pen/bWLwgP.css'])\n",
    "\n",
    "assignments = ['Assignment 1', 'Assignment 2', 'Assignment 3 (option A)', \n",
    "               'Assignment 3 (option B)','Assignment 3 (option C)','Assignment 3 (option D)']\n",
    "discussion_topics = disc['discussion_topic_title'].unique()\n",
    "\n",
    "app.layout = html.Div([\n",
    "    dcc.Tabs([\n",
    "        dcc.Tab(label='Discussion', children=[\n",
    "            dcc.Dropdown(\n",
    "            id='discussion', value='Discussion 1: The meaning of eLearning',\n",
    "            options=[{'label': i, 'value': i} for i in discussion_topics]),\n",
    "        html.Iframe(\n",
    "            id='disc-scatter',\n",
    "            style={'border-width': '0', 'width': '100%', 'height': '400px'},\n",
    "            srcDoc=plot_altair('Discussion 1: The meaning of eLearning'))]),\n",
    "        \n",
    "        dcc.Tab(label='Assignments', children=[\n",
    "            dcc.Dropdown(\n",
    "            id='assignment_name', value='Assignment 1',\n",
    "            options=[{'label': i, 'value': i} for i in assignments]),\n",
    "        html.Iframe(\n",
    "            id='a-scatter',\n",
    "            style={'border-width': '0', 'width': '100%', 'height': '400px'},\n",
    "            srcDoc=plot_cumulative_assignment_view('Assignment 1'))\n",
    "        ]),\n",
    "        \n",
    "        dcc.Tab(label='Modules', children=[\n",
    "            dcc.Graph(\n",
    "                figure={\n",
    "                    'data': [\n",
    "                        {'x': [1, 2, 3], 'y': [2, 4, 3],\n",
    "                            'type': 'bar', 'name': 'SF'},\n",
    "                        {'x': [1, 2, 3], 'y': [5, 4, 3],\n",
    "                         'type': 'bar', 'name': 'Montréal'},\n",
    "                    ]\n",
    "                }\n",
    "            )\n",
    "        ]),\n",
    "    ])    \n",
    "])\n",
    "\n",
    "# Callback for updating the 'Discussion'\n",
    "@app.callback(\n",
    "    Output('disc-scatter', 'srcDoc'),\n",
    "    Input('discussion', 'value')\n",
    ")\n",
    "def update_disc_scatter(discussion_topic):\n",
    "    return plot_altair(discussion_topic)\n",
    "\n",
    "# Callback for updating the 'Assignments'\n",
    "@app.callback(\n",
    "    Output('a-scatter', 'srcDoc'),\n",
    "    Input('assignment_name', 'value')\n",
    ")\n",
    "def update_a_scatter(assignment_name):\n",
    "    return plot_cumulative_assignment_view(assignment_name)\n",
    "\n",
    "if __name__ == '__main__':\n",
    "    app.run_server(debug=True)"
   ]
  },
  {
   "cell_type": "code",
   "execution_count": null,
   "id": "c8dae914-476e-4618-8443-2f2f8cbf558c",
   "metadata": {},
   "outputs": [],
   "source": []
  }
 ],
 "metadata": {
  "kernelspec": {
   "display_name": "Python [conda env:571]",
   "language": "python",
   "name": "conda-env-571-py"
  },
  "language_info": {
   "codemirror_mode": {
    "name": "ipython",
    "version": 3
   },
   "file_extension": ".py",
   "mimetype": "text/x-python",
   "name": "python",
   "nbconvert_exporter": "python",
   "pygments_lexer": "ipython3",
   "version": "3.10.0"
  }
 },
 "nbformat": 4,
 "nbformat_minor": 5
}
