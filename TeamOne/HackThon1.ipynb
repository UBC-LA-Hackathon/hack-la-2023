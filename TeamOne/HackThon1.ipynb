{
 "cells": [
  {
   "cell_type": "code",
   "execution_count": 35,
   "id": "563e9c26",
   "metadata": {},
   "outputs": [
    {
     "name": "stderr",
     "output_type": "stream",
     "text": [
      "Warning message:\n",
      "\"package 'gtools' was built under R version 4.3.1\"\n"
     ]
    }
   ],
   "source": [
    "library(tidyverse)\n",
    "library(gtools)"
   ]
  },
  {
   "cell_type": "markdown",
   "id": "1eb71e02",
   "metadata": {},
   "source": [
    "## Preprocess"
   ]
  },
  {
   "cell_type": "code",
   "execution_count": 279,
   "id": "d10dab12",
   "metadata": {},
   "outputs": [
    {
     "data": {
      "text/html": [
       "36"
      ],
      "text/latex": [
       "36"
      ],
      "text/markdown": [
       "36"
      ],
      "text/plain": [
       "[1] 36"
      ]
     },
     "metadata": {},
     "output_type": "display_data"
    }
   ],
   "source": [
    "ds <- read.csv(\"D:/OneDrive - UBC/桌面/LA Hackthon/hack-la-2023/TeamOne/data/hackathon_alternate_data/navigation_events.csv\")\n",
    "ds_grade <- read.csv(\"D:/OneDrive - UBC/桌面/LA Hackthon/hack-la-2023/TeamOne/data/hackathon_alternate_data/additional/gradebook.csv\")\n",
    "ds_enroll <- read.csv(\"D:/OneDrive - UBC/桌面/LA Hackthon/hack-la-2023/TeamOne/data/hackathon_alternate_data/additional/enrollments.csv\")\n",
    "ds_ass <- read.csv(\"D:/OneDrive - UBC/桌面/LA Hackthon/hack-la-2023/TeamOne/data/hackathon_alternate_data/additional/assignments.csv\")\n",
    "ds_disc <- read.csv(\"D:/OneDrive - UBC/桌面/LA Hackthon/hack-la-2023/TeamOne/data/hackathon_alternate_data/additional/discussions.csv\")\n",
    "ds2 <- read.csv(\"D:/OneDrive - UBC/桌面/LA Hackthon/hack-la-2023/TeamOne/data/selected_asset_name_df.csv\")\n",
    "Ass <- unique(ds2$event__object_extensions_asset_name)  \n",
    "Ass <- gsub(\"Assignment 1:\", \"Assignment 1\",Ass)\n",
    "\n",
    "#Only run one time\n",
    "ds_enroll <- ds_enroll %>% \n",
    "    filter(user_id != \"LEARNER_48\") %>% \n",
    "    mutate(\n",
    "    id1 = as.integer(str_extract(user_id, \"[0-9]+\"))\n",
    "      ) %>% \n",
    "    arrange(id1)\n",
    "\n",
    "ds_grade <- ds_grade[-1,]\n",
    "ds_grade <- ds_grade[-1,]\n",
    "ds_grade <- ds_grade %>% \n",
    "    filter(Student != \"LEARNER_48\") %>% \n",
    "    mutate(\n",
    "    id = as.integer(str_extract(Student, \"[0-9]+\"))\n",
    "      ) %>% \n",
    "    arrange(id) \n",
    "\n",
    "ds$event_time <- as.Date(ds$event_time, format=\"%Y-%m-%d %H:%M:%OS\", tz=\"UTC\")\n",
    "ds_ass$due_at <- as.Date(ds_ass$due_at, format=\"%Y-%m-%d %H:%M:%OS\", tz=\"UTC\")\n",
    "\n",
    "ds_ass <- ds_ass %>% \n",
    "    select(due_at,name) %>% \n",
    "    filter(name %in%  Ass)"
   ]
  },
  {
   "cell_type": "code",
   "execution_count": 127,
   "id": "e73221c4",
   "metadata": {},
   "outputs": [
    {
     "data": {
      "text/html": [
       "<table class=\"dataframe\">\n",
       "<caption>A data.frame: 6 × 19</caption>\n",
       "<thead>\n",
       "\t<tr><th></th><th scope=col>Student</th><th scope=col>Assignment.1..c81f04547a95da2a7b88054ef491b7c4.</th><th scope=col>Assignment.2..a4dc11e7e79361fc5886a9078aac66b8.</th><th scope=col>Assignment.3..option.A...811d93ea379b5cdd5a19f1b5dbab88cd.</th><th scope=col>Assignment.3..option.B...df8d1f1ff3f48fdc24a278b40c5f45cc.</th><th scope=col>Assignment.3..option.C...bb971b36c1578cede00150acda89aa99.</th><th scope=col>Assignment.3..option.D...f1ad954cd2cddda6e17f6fc225d1aa3e.</th><th scope=col>Participation.grade..Formative..not.included.in.final.grade...5965e0b0c712861d0efdd9be54572114.</th><th scope=col>Assignment.1.Current.Score</th><th scope=col>Assignment.2.Current.Score</th><th scope=col>Assignment.3.Current.Score</th><th scope=col>Participation...engagement.Current.Score</th><th scope=col>Current.Score</th><th scope=col>id</th><th scope=col>user_id</th><th scope=col>type</th><th scope=col>last_activity_at</th><th scope=col>last_attended_at</th><th scope=col>total_activity_time</th></tr>\n",
       "\t<tr><th></th><th scope=col>&lt;chr&gt;</th><th scope=col>&lt;chr&gt;</th><th scope=col>&lt;chr&gt;</th><th scope=col>&lt;chr&gt;</th><th scope=col>&lt;chr&gt;</th><th scope=col>&lt;chr&gt;</th><th scope=col>&lt;chr&gt;</th><th scope=col>&lt;chr&gt;</th><th scope=col>&lt;chr&gt;</th><th scope=col>&lt;chr&gt;</th><th scope=col>&lt;chr&gt;</th><th scope=col>&lt;chr&gt;</th><th scope=col>&lt;int&gt;</th><th scope=col>&lt;int&gt;</th><th scope=col>&lt;chr&gt;</th><th scope=col>&lt;chr&gt;</th><th scope=col>&lt;chr&gt;</th><th scope=col>&lt;lgl&gt;</th><th scope=col>&lt;int&gt;</th></tr>\n",
       "</thead>\n",
       "<tbody>\n",
       "\t<tr><th scope=row>1</th><td>LEARNER_1</td><td>79</td><td>84</td><td>  </td><td>  </td><td>73</td><td>  </td><td>9 </td><td>79</td><td>84</td><td>73</td><td>90 </td><td>80</td><td>1</td><td>LEARNER_1</td><td>StudentEnrollment</td><td>2033-05-26 03:10:40+00:00</td><td>NA</td><td>985351</td></tr>\n",
       "\t<tr><th scope=row>2</th><td>LEARNER_2</td><td>93</td><td>85</td><td>  </td><td>  </td><td>  </td><td>95</td><td>6 </td><td>93</td><td>85</td><td>95</td><td>60 </td><td>84</td><td>2</td><td>LEARNER_2</td><td>StudentEnrollment</td><td>2033-09-15 13:24:28+00:00</td><td>NA</td><td>152876</td></tr>\n",
       "\t<tr><th scope=row>3</th><td>LEARNER_3</td><td>94</td><td>92</td><td>  </td><td>  </td><td>82</td><td>  </td><td>9 </td><td>94</td><td>92</td><td>82</td><td>90 </td><td>89</td><td>3</td><td>LEARNER_3</td><td>StudentEnrollment</td><td>2033-04-27 00:46:59+00:00</td><td>NA</td><td>209706</td></tr>\n",
       "\t<tr><th scope=row>4</th><td>LEARNER_4</td><td>88</td><td>76</td><td>75</td><td>  </td><td>  </td><td>  </td><td>10</td><td>88</td><td>76</td><td>75</td><td>100</td><td>82</td><td>4</td><td>LEARNER_4</td><td>StudentEnrollment</td><td>2033-05-08 08:56:27+00:00</td><td>NA</td><td>675638</td></tr>\n",
       "\t<tr><th scope=row>5</th><td>LEARNER_5</td><td>91</td><td>82</td><td>84</td><td>  </td><td>  </td><td>  </td><td>10</td><td>91</td><td>82</td><td>84</td><td>100</td><td>88</td><td>5</td><td>LEARNER_5</td><td>StudentEnrollment</td><td>2033-05-27 04:17:06+00:00</td><td>NA</td><td>177844</td></tr>\n",
       "\t<tr><th scope=row>6</th><td>LEARNER_6</td><td>94</td><td>94</td><td>  </td><td>84</td><td>  </td><td>  </td><td>10</td><td>94</td><td>94</td><td>84</td><td>100</td><td>92</td><td>6</td><td>LEARNER_6</td><td>StudentEnrollment</td><td>2033-05-10 10:22:54+00:00</td><td>NA</td><td>426200</td></tr>\n",
       "</tbody>\n",
       "</table>\n"
      ],
      "text/latex": [
       "A data.frame: 6 × 19\n",
       "\\begin{tabular}{r|lllllllllllllllllll}\n",
       "  & Student & Assignment.1..c81f04547a95da2a7b88054ef491b7c4. & Assignment.2..a4dc11e7e79361fc5886a9078aac66b8. & Assignment.3..option.A...811d93ea379b5cdd5a19f1b5dbab88cd. & Assignment.3..option.B...df8d1f1ff3f48fdc24a278b40c5f45cc. & Assignment.3..option.C...bb971b36c1578cede00150acda89aa99. & Assignment.3..option.D...f1ad954cd2cddda6e17f6fc225d1aa3e. & Participation.grade..Formative..not.included.in.final.grade...5965e0b0c712861d0efdd9be54572114. & Assignment.1.Current.Score & Assignment.2.Current.Score & Assignment.3.Current.Score & Participation...engagement.Current.Score & Current.Score & id & user\\_id & type & last\\_activity\\_at & last\\_attended\\_at & total\\_activity\\_time\\\\\n",
       "  & <chr> & <chr> & <chr> & <chr> & <chr> & <chr> & <chr> & <chr> & <chr> & <chr> & <chr> & <chr> & <int> & <int> & <chr> & <chr> & <chr> & <lgl> & <int>\\\\\n",
       "\\hline\n",
       "\t1 & LEARNER\\_1 & 79 & 84 &    &    & 73 &    & 9  & 79 & 84 & 73 & 90  & 80 & 1 & LEARNER\\_1 & StudentEnrollment & 2033-05-26 03:10:40+00:00 & NA & 985351\\\\\n",
       "\t2 & LEARNER\\_2 & 93 & 85 &    &    &    & 95 & 6  & 93 & 85 & 95 & 60  & 84 & 2 & LEARNER\\_2 & StudentEnrollment & 2033-09-15 13:24:28+00:00 & NA & 152876\\\\\n",
       "\t3 & LEARNER\\_3 & 94 & 92 &    &    & 82 &    & 9  & 94 & 92 & 82 & 90  & 89 & 3 & LEARNER\\_3 & StudentEnrollment & 2033-04-27 00:46:59+00:00 & NA & 209706\\\\\n",
       "\t4 & LEARNER\\_4 & 88 & 76 & 75 &    &    &    & 10 & 88 & 76 & 75 & 100 & 82 & 4 & LEARNER\\_4 & StudentEnrollment & 2033-05-08 08:56:27+00:00 & NA & 675638\\\\\n",
       "\t5 & LEARNER\\_5 & 91 & 82 & 84 &    &    &    & 10 & 91 & 82 & 84 & 100 & 88 & 5 & LEARNER\\_5 & StudentEnrollment & 2033-05-27 04:17:06+00:00 & NA & 177844\\\\\n",
       "\t6 & LEARNER\\_6 & 94 & 94 &    & 84 &    &    & 10 & 94 & 94 & 84 & 100 & 92 & 6 & LEARNER\\_6 & StudentEnrollment & 2033-05-10 10:22:54+00:00 & NA & 426200\\\\\n",
       "\\end{tabular}\n"
      ],
      "text/markdown": [
       "\n",
       "A data.frame: 6 × 19\n",
       "\n",
       "| <!--/--> | Student &lt;chr&gt; | Assignment.1..c81f04547a95da2a7b88054ef491b7c4. &lt;chr&gt; | Assignment.2..a4dc11e7e79361fc5886a9078aac66b8. &lt;chr&gt; | Assignment.3..option.A...811d93ea379b5cdd5a19f1b5dbab88cd. &lt;chr&gt; | Assignment.3..option.B...df8d1f1ff3f48fdc24a278b40c5f45cc. &lt;chr&gt; | Assignment.3..option.C...bb971b36c1578cede00150acda89aa99. &lt;chr&gt; | Assignment.3..option.D...f1ad954cd2cddda6e17f6fc225d1aa3e. &lt;chr&gt; | Participation.grade..Formative..not.included.in.final.grade...5965e0b0c712861d0efdd9be54572114. &lt;chr&gt; | Assignment.1.Current.Score &lt;chr&gt; | Assignment.2.Current.Score &lt;chr&gt; | Assignment.3.Current.Score &lt;chr&gt; | Participation...engagement.Current.Score &lt;chr&gt; | Current.Score &lt;int&gt; | id &lt;int&gt; | user_id &lt;chr&gt; | type &lt;chr&gt; | last_activity_at &lt;chr&gt; | last_attended_at &lt;lgl&gt; | total_activity_time &lt;int&gt; |\n",
       "|---|---|---|---|---|---|---|---|---|---|---|---|---|---|---|---|---|---|---|---|\n",
       "| 1 | LEARNER_1 | 79 | 84 | <!----> | <!----> | 73 | <!----> | 9  | 79 | 84 | 73 | 90  | 80 | 1 | LEARNER_1 | StudentEnrollment | 2033-05-26 03:10:40+00:00 | NA | 985351 |\n",
       "| 2 | LEARNER_2 | 93 | 85 | <!----> | <!----> | <!----> | 95 | 6  | 93 | 85 | 95 | 60  | 84 | 2 | LEARNER_2 | StudentEnrollment | 2033-09-15 13:24:28+00:00 | NA | 152876 |\n",
       "| 3 | LEARNER_3 | 94 | 92 | <!----> | <!----> | 82 | <!----> | 9  | 94 | 92 | 82 | 90  | 89 | 3 | LEARNER_3 | StudentEnrollment | 2033-04-27 00:46:59+00:00 | NA | 209706 |\n",
       "| 4 | LEARNER_4 | 88 | 76 | 75 | <!----> | <!----> | <!----> | 10 | 88 | 76 | 75 | 100 | 82 | 4 | LEARNER_4 | StudentEnrollment | 2033-05-08 08:56:27+00:00 | NA | 675638 |\n",
       "| 5 | LEARNER_5 | 91 | 82 | 84 | <!----> | <!----> | <!----> | 10 | 91 | 82 | 84 | 100 | 88 | 5 | LEARNER_5 | StudentEnrollment | 2033-05-27 04:17:06+00:00 | NA | 177844 |\n",
       "| 6 | LEARNER_6 | 94 | 94 | <!----> | 84 | <!----> | <!----> | 10 | 94 | 94 | 84 | 100 | 92 | 6 | LEARNER_6 | StudentEnrollment | 2033-05-10 10:22:54+00:00 | NA | 426200 |\n",
       "\n"
      ],
      "text/plain": [
       "  Student   Assignment.1..c81f04547a95da2a7b88054ef491b7c4.\n",
       "1 LEARNER_1 79                                             \n",
       "2 LEARNER_2 93                                             \n",
       "3 LEARNER_3 94                                             \n",
       "4 LEARNER_4 88                                             \n",
       "5 LEARNER_5 91                                             \n",
       "6 LEARNER_6 94                                             \n",
       "  Assignment.2..a4dc11e7e79361fc5886a9078aac66b8.\n",
       "1 84                                             \n",
       "2 85                                             \n",
       "3 92                                             \n",
       "4 76                                             \n",
       "5 82                                             \n",
       "6 94                                             \n",
       "  Assignment.3..option.A...811d93ea379b5cdd5a19f1b5dbab88cd.\n",
       "1                                                           \n",
       "2                                                           \n",
       "3                                                           \n",
       "4 75                                                        \n",
       "5 84                                                        \n",
       "6                                                           \n",
       "  Assignment.3..option.B...df8d1f1ff3f48fdc24a278b40c5f45cc.\n",
       "1                                                           \n",
       "2                                                           \n",
       "3                                                           \n",
       "4                                                           \n",
       "5                                                           \n",
       "6 84                                                        \n",
       "  Assignment.3..option.C...bb971b36c1578cede00150acda89aa99.\n",
       "1 73                                                        \n",
       "2                                                           \n",
       "3 82                                                        \n",
       "4                                                           \n",
       "5                                                           \n",
       "6                                                           \n",
       "  Assignment.3..option.D...f1ad954cd2cddda6e17f6fc225d1aa3e.\n",
       "1                                                           \n",
       "2 95                                                        \n",
       "3                                                           \n",
       "4                                                           \n",
       "5                                                           \n",
       "6                                                           \n",
       "  Participation.grade..Formative..not.included.in.final.grade...5965e0b0c712861d0efdd9be54572114.\n",
       "1 9                                                                                              \n",
       "2 6                                                                                              \n",
       "3 9                                                                                              \n",
       "4 10                                                                                             \n",
       "5 10                                                                                             \n",
       "6 10                                                                                             \n",
       "  Assignment.1.Current.Score Assignment.2.Current.Score\n",
       "1 79                         84                        \n",
       "2 93                         85                        \n",
       "3 94                         92                        \n",
       "4 88                         76                        \n",
       "5 91                         82                        \n",
       "6 94                         94                        \n",
       "  Assignment.3.Current.Score Participation...engagement.Current.Score\n",
       "1 73                         90                                      \n",
       "2 95                         60                                      \n",
       "3 82                         90                                      \n",
       "4 75                         100                                     \n",
       "5 84                         100                                     \n",
       "6 84                         100                                     \n",
       "  Current.Score id user_id   type              last_activity_at         \n",
       "1 80            1  LEARNER_1 StudentEnrollment 2033-05-26 03:10:40+00:00\n",
       "2 84            2  LEARNER_2 StudentEnrollment 2033-09-15 13:24:28+00:00\n",
       "3 89            3  LEARNER_3 StudentEnrollment 2033-04-27 00:46:59+00:00\n",
       "4 82            4  LEARNER_4 StudentEnrollment 2033-05-08 08:56:27+00:00\n",
       "5 88            5  LEARNER_5 StudentEnrollment 2033-05-27 04:17:06+00:00\n",
       "6 92            6  LEARNER_6 StudentEnrollment 2033-05-10 10:22:54+00:00\n",
       "  last_attended_at total_activity_time\n",
       "1 NA               985351             \n",
       "2 NA               152876             \n",
       "3 NA               209706             \n",
       "4 NA               675638             \n",
       "5 NA               177844             \n",
       "6 NA               426200             "
      ]
     },
     "metadata": {},
     "output_type": "display_data"
    }
   ],
   "source": [
    "ds_ge <- cbind(ds_grade,ds_enroll) %>% \n",
    "    select(-id1)\n",
    "ds_ge$Current.Score <- as.integer(ds_ge$Current.Score)\n",
    "head(ds_ge)"
   ]
  },
  {
   "cell_type": "code",
   "execution_count": 215,
   "id": "cb9a8ee5",
   "metadata": {},
   "outputs": [
    {
     "data": {
      "text/html": [
       "<table class=\"dataframe\">\n",
       "<caption>A tibble: 6 × 3</caption>\n",
       "<thead>\n",
       "\t<tr><th scope=col>id</th><th scope=col>Assignment Name</th><th scope=col>grade</th></tr>\n",
       "\t<tr><th scope=col>&lt;int&gt;</th><th scope=col>&lt;chr&gt;</th><th scope=col>&lt;chr&gt;</th></tr>\n",
       "</thead>\n",
       "<tbody>\n",
       "\t<tr><td>1</td><td>Assignment 1           </td><td>79</td></tr>\n",
       "\t<tr><td>1</td><td>Assignment 2           </td><td>84</td></tr>\n",
       "\t<tr><td>1</td><td>Assignment 3 (option A)</td><td>  </td></tr>\n",
       "\t<tr><td>1</td><td>Assignment 3 (option B)</td><td>  </td></tr>\n",
       "\t<tr><td>1</td><td>Assignment 3 (option C)</td><td>73</td></tr>\n",
       "\t<tr><td>1</td><td>Assignment 3 (option D)</td><td>  </td></tr>\n",
       "</tbody>\n",
       "</table>\n"
      ],
      "text/latex": [
       "A tibble: 6 × 3\n",
       "\\begin{tabular}{lll}\n",
       " id & Assignment Name & grade\\\\\n",
       " <int> & <chr> & <chr>\\\\\n",
       "\\hline\n",
       "\t 1 & Assignment 1            & 79\\\\\n",
       "\t 1 & Assignment 2            & 84\\\\\n",
       "\t 1 & Assignment 3 (option A) &   \\\\\n",
       "\t 1 & Assignment 3 (option B) &   \\\\\n",
       "\t 1 & Assignment 3 (option C) & 73\\\\\n",
       "\t 1 & Assignment 3 (option D) &   \\\\\n",
       "\\end{tabular}\n"
      ],
      "text/markdown": [
       "\n",
       "A tibble: 6 × 3\n",
       "\n",
       "| id &lt;int&gt; | Assignment Name &lt;chr&gt; | grade &lt;chr&gt; |\n",
       "|---|---|---|\n",
       "| 1 | Assignment 1            | 79 |\n",
       "| 1 | Assignment 2            | 84 |\n",
       "| 1 | Assignment 3 (option A) | <!----> |\n",
       "| 1 | Assignment 3 (option B) | <!----> |\n",
       "| 1 | Assignment 3 (option C) | 73 |\n",
       "| 1 | Assignment 3 (option D) | <!----> |\n",
       "\n"
      ],
      "text/plain": [
       "  id Assignment Name         grade\n",
       "1 1  Assignment 1            79   \n",
       "2 1  Assignment 2            84   \n",
       "3 1  Assignment 3 (option A)      \n",
       "4 1  Assignment 3 (option B)      \n",
       "5 1  Assignment 3 (option C) 73   \n",
       "6 1  Assignment 3 (option D)      "
      ]
     },
     "metadata": {},
     "output_type": "display_data"
    }
   ],
   "source": [
    "ds_grade1 <- ds_grade %>% \n",
    "    select(Assignment.1..c81f04547a95da2a7b88054ef491b7c4.,\n",
    "          Assignment.2..a4dc11e7e79361fc5886a9078aac66b8.,\n",
    "          Assignment.3..option.A...811d93ea379b5cdd5a19f1b5dbab88cd.,\n",
    "          Assignment.3..option.B...df8d1f1ff3f48fdc24a278b40c5f45cc.,\n",
    "          Assignment.3..option.C...bb971b36c1578cede00150acda89aa99.,\n",
    "          Assignment.3..option.D...f1ad954cd2cddda6e17f6fc225d1aa3e.,\n",
    "          id)\n",
    "colnames(ds_grade1) = c(Ass,'id')\n",
    "\n",
    "ds_grade1 <- ds_grade1 %>% \n",
    "    pivot_longer(cols = starts_with(\"Assignment\"), names_to = \"Assignment Name\", values_to = \"grade\") \n",
    "head(ds_grade1)"
   ]
  },
  {
   "cell_type": "code",
   "execution_count": 232,
   "id": "7ca149a9",
   "metadata": {},
   "outputs": [
    {
     "data": {
      "text/html": [
       "<table class=\"dataframe\">\n",
       "<caption>A data.frame: 6 × 10</caption>\n",
       "<thead>\n",
       "\t<tr><th></th><th scope=col>actor_id</th><th scope=col>membership_role</th><th scope=col>timestamp</th><th scope=col>post_id</th><th scope=col>post_parent_id</th><th scope=col>discussion_topic_title</th><th scope=col>discussion_topic_id</th><th scope=col>discussion_topic_message_length</th><th scope=col>post_message_length</th><th scope=col>count_of_likes</th></tr>\n",
       "\t<tr><th></th><th scope=col>&lt;chr&gt;</th><th scope=col>&lt;chr&gt;</th><th scope=col>&lt;chr&gt;</th><th scope=col>&lt;chr&gt;</th><th scope=col>&lt;chr&gt;</th><th scope=col>&lt;chr&gt;</th><th scope=col>&lt;chr&gt;</th><th scope=col>&lt;int&gt;</th><th scope=col>&lt;int&gt;</th><th scope=col>&lt;int&gt;</th></tr>\n",
       "</thead>\n",
       "<tbody>\n",
       "\t<tr><th scope=row>1</th><td>INSTRUCTOR</td><td>[\"Instructor\"]</td><td>2033-01-18 17:13:01+00:00</td><td>e29fca96e5557a20cabec778dc885345</td><td>1e1288fa5e19f13c45b0231e8cbedab6</td><td>Assignment 1 Discussion forum</td><td>132f3fab56d60839d727b966a76c1b1e</td><td>367</td><td>   0</td><td>0</td></tr>\n",
       "\t<tr><th scope=row>2</th><td>INSTRUCTOR</td><td>[\"Instructor\"]</td><td>2033-01-18 17:13:02+00:00</td><td>cf6816ae103ab5e2c82d6595eb49e02e</td><td>1e1288fa5e19f13c45b0231e8cbedab6</td><td>Assignment 1 Discussion forum</td><td>132f3fab56d60839d727b966a76c1b1e</td><td> 79</td><td>   0</td><td>0</td></tr>\n",
       "\t<tr><th scope=row>3</th><td>LEARNER_3 </td><td>[\"Learner\"]   </td><td>2033-01-28 06:55:40+00:00</td><td>abb6c24171f8b195cf0d050858e4ff18</td><td>cf6816ae103ab5e2c82d6595eb49e02e</td><td>Assignment 1 Discussion forum</td><td>132f3fab56d60839d727b966a76c1b1e</td><td> 79</td><td> 564</td><td>0</td></tr>\n",
       "\t<tr><th scope=row>4</th><td>LEARNER_11</td><td>[\"Learner\"]   </td><td>2033-01-29 01:04:32+00:00</td><td>a250f9cde1c58d4dba3d4f918e82a018</td><td>abb6c24171f8b195cf0d050858e4ff18</td><td>Assignment 1 Discussion forum</td><td>132f3fab56d60839d727b966a76c1b1e</td><td> 79</td><td> 174</td><td>0</td></tr>\n",
       "\t<tr><th scope=row>5</th><td>LEARNER_3 </td><td>[\"Learner\"]   </td><td>2033-01-29 05:54:31+00:00</td><td>3ac8537702d3d7d8bf033d73a4491591</td><td>a250f9cde1c58d4dba3d4f918e82a018</td><td>Assignment 1 Discussion forum</td><td>132f3fab56d60839d727b966a76c1b1e</td><td> 79</td><td> 226</td><td>0</td></tr>\n",
       "\t<tr><th scope=row>6</th><td>INSTRUCTOR</td><td>[\"Instructor\"]</td><td>2033-01-29 11:26:11+00:00</td><td>b4ef4eadc997992bfab83b11b50a3771</td><td>cf6816ae103ab5e2c82d6595eb49e02e</td><td>Assignment 1 Discussion forum</td><td>132f3fab56d60839d727b966a76c1b1e</td><td> 79</td><td>1566</td><td>2</td></tr>\n",
       "</tbody>\n",
       "</table>\n"
      ],
      "text/latex": [
       "A data.frame: 6 × 10\n",
       "\\begin{tabular}{r|llllllllll}\n",
       "  & actor\\_id & membership\\_role & timestamp & post\\_id & post\\_parent\\_id & discussion\\_topic\\_title & discussion\\_topic\\_id & discussion\\_topic\\_message\\_length & post\\_message\\_length & count\\_of\\_likes\\\\\n",
       "  & <chr> & <chr> & <chr> & <chr> & <chr> & <chr> & <chr> & <int> & <int> & <int>\\\\\n",
       "\\hline\n",
       "\t1 & INSTRUCTOR & {[}\"Instructor\"{]} & 2033-01-18 17:13:01+00:00 & e29fca96e5557a20cabec778dc885345 & 1e1288fa5e19f13c45b0231e8cbedab6 & Assignment 1 Discussion forum & 132f3fab56d60839d727b966a76c1b1e & 367 &    0 & 0\\\\\n",
       "\t2 & INSTRUCTOR & {[}\"Instructor\"{]} & 2033-01-18 17:13:02+00:00 & cf6816ae103ab5e2c82d6595eb49e02e & 1e1288fa5e19f13c45b0231e8cbedab6 & Assignment 1 Discussion forum & 132f3fab56d60839d727b966a76c1b1e &  79 &    0 & 0\\\\\n",
       "\t3 & LEARNER\\_3  & {[}\"Learner\"{]}    & 2033-01-28 06:55:40+00:00 & abb6c24171f8b195cf0d050858e4ff18 & cf6816ae103ab5e2c82d6595eb49e02e & Assignment 1 Discussion forum & 132f3fab56d60839d727b966a76c1b1e &  79 &  564 & 0\\\\\n",
       "\t4 & LEARNER\\_11 & {[}\"Learner\"{]}    & 2033-01-29 01:04:32+00:00 & a250f9cde1c58d4dba3d4f918e82a018 & abb6c24171f8b195cf0d050858e4ff18 & Assignment 1 Discussion forum & 132f3fab56d60839d727b966a76c1b1e &  79 &  174 & 0\\\\\n",
       "\t5 & LEARNER\\_3  & {[}\"Learner\"{]}    & 2033-01-29 05:54:31+00:00 & 3ac8537702d3d7d8bf033d73a4491591 & a250f9cde1c58d4dba3d4f918e82a018 & Assignment 1 Discussion forum & 132f3fab56d60839d727b966a76c1b1e &  79 &  226 & 0\\\\\n",
       "\t6 & INSTRUCTOR & {[}\"Instructor\"{]} & 2033-01-29 11:26:11+00:00 & b4ef4eadc997992bfab83b11b50a3771 & cf6816ae103ab5e2c82d6595eb49e02e & Assignment 1 Discussion forum & 132f3fab56d60839d727b966a76c1b1e &  79 & 1566 & 2\\\\\n",
       "\\end{tabular}\n"
      ],
      "text/markdown": [
       "\n",
       "A data.frame: 6 × 10\n",
       "\n",
       "| <!--/--> | actor_id &lt;chr&gt; | membership_role &lt;chr&gt; | timestamp &lt;chr&gt; | post_id &lt;chr&gt; | post_parent_id &lt;chr&gt; | discussion_topic_title &lt;chr&gt; | discussion_topic_id &lt;chr&gt; | discussion_topic_message_length &lt;int&gt; | post_message_length &lt;int&gt; | count_of_likes &lt;int&gt; |\n",
       "|---|---|---|---|---|---|---|---|---|---|---|\n",
       "| 1 | INSTRUCTOR | [\"Instructor\"] | 2033-01-18 17:13:01+00:00 | e29fca96e5557a20cabec778dc885345 | 1e1288fa5e19f13c45b0231e8cbedab6 | Assignment 1 Discussion forum | 132f3fab56d60839d727b966a76c1b1e | 367 |    0 | 0 |\n",
       "| 2 | INSTRUCTOR | [\"Instructor\"] | 2033-01-18 17:13:02+00:00 | cf6816ae103ab5e2c82d6595eb49e02e | 1e1288fa5e19f13c45b0231e8cbedab6 | Assignment 1 Discussion forum | 132f3fab56d60839d727b966a76c1b1e |  79 |    0 | 0 |\n",
       "| 3 | LEARNER_3  | [\"Learner\"]    | 2033-01-28 06:55:40+00:00 | abb6c24171f8b195cf0d050858e4ff18 | cf6816ae103ab5e2c82d6595eb49e02e | Assignment 1 Discussion forum | 132f3fab56d60839d727b966a76c1b1e |  79 |  564 | 0 |\n",
       "| 4 | LEARNER_11 | [\"Learner\"]    | 2033-01-29 01:04:32+00:00 | a250f9cde1c58d4dba3d4f918e82a018 | abb6c24171f8b195cf0d050858e4ff18 | Assignment 1 Discussion forum | 132f3fab56d60839d727b966a76c1b1e |  79 |  174 | 0 |\n",
       "| 5 | LEARNER_3  | [\"Learner\"]    | 2033-01-29 05:54:31+00:00 | 3ac8537702d3d7d8bf033d73a4491591 | a250f9cde1c58d4dba3d4f918e82a018 | Assignment 1 Discussion forum | 132f3fab56d60839d727b966a76c1b1e |  79 |  226 | 0 |\n",
       "| 6 | INSTRUCTOR | [\"Instructor\"] | 2033-01-29 11:26:11+00:00 | b4ef4eadc997992bfab83b11b50a3771 | cf6816ae103ab5e2c82d6595eb49e02e | Assignment 1 Discussion forum | 132f3fab56d60839d727b966a76c1b1e |  79 | 1566 | 2 |\n",
       "\n"
      ],
      "text/plain": [
       "  actor_id   membership_role timestamp                \n",
       "1 INSTRUCTOR [\"Instructor\"]  2033-01-18 17:13:01+00:00\n",
       "2 INSTRUCTOR [\"Instructor\"]  2033-01-18 17:13:02+00:00\n",
       "3 LEARNER_3  [\"Learner\"]     2033-01-28 06:55:40+00:00\n",
       "4 LEARNER_11 [\"Learner\"]     2033-01-29 01:04:32+00:00\n",
       "5 LEARNER_3  [\"Learner\"]     2033-01-29 05:54:31+00:00\n",
       "6 INSTRUCTOR [\"Instructor\"]  2033-01-29 11:26:11+00:00\n",
       "  post_id                          post_parent_id                  \n",
       "1 e29fca96e5557a20cabec778dc885345 1e1288fa5e19f13c45b0231e8cbedab6\n",
       "2 cf6816ae103ab5e2c82d6595eb49e02e 1e1288fa5e19f13c45b0231e8cbedab6\n",
       "3 abb6c24171f8b195cf0d050858e4ff18 cf6816ae103ab5e2c82d6595eb49e02e\n",
       "4 a250f9cde1c58d4dba3d4f918e82a018 abb6c24171f8b195cf0d050858e4ff18\n",
       "5 3ac8537702d3d7d8bf033d73a4491591 a250f9cde1c58d4dba3d4f918e82a018\n",
       "6 b4ef4eadc997992bfab83b11b50a3771 cf6816ae103ab5e2c82d6595eb49e02e\n",
       "  discussion_topic_title        discussion_topic_id             \n",
       "1 Assignment 1 Discussion forum 132f3fab56d60839d727b966a76c1b1e\n",
       "2 Assignment 1 Discussion forum 132f3fab56d60839d727b966a76c1b1e\n",
       "3 Assignment 1 Discussion forum 132f3fab56d60839d727b966a76c1b1e\n",
       "4 Assignment 1 Discussion forum 132f3fab56d60839d727b966a76c1b1e\n",
       "5 Assignment 1 Discussion forum 132f3fab56d60839d727b966a76c1b1e\n",
       "6 Assignment 1 Discussion forum 132f3fab56d60839d727b966a76c1b1e\n",
       "  discussion_topic_message_length post_message_length count_of_likes\n",
       "1 367                                0                0             \n",
       "2  79                                0                0             \n",
       "3  79                              564                0             \n",
       "4  79                              174                0             \n",
       "5  79                              226                0             \n",
       "6  79                             1566                2             "
      ]
     },
     "metadata": {},
     "output_type": "display_data"
    }
   ],
   "source": [
    "head(ds_disc)"
   ]
  },
  {
   "cell_type": "code",
   "execution_count": 247,
   "id": "84d41cf5",
   "metadata": {},
   "outputs": [
    {
     "data": {
      "text/html": [
       "<table class=\"dataframe\">\n",
       "<caption>A tibble: 6 × 3</caption>\n",
       "<thead>\n",
       "\t<tr><th scope=col>total_length</th><th scope=col>total_like</th><th scope=col>id</th></tr>\n",
       "\t<tr><th scope=col>&lt;int&gt;</th><th scope=col>&lt;int&gt;</th><th scope=col>&lt;int&gt;</th></tr>\n",
       "</thead>\n",
       "<tbody>\n",
       "\t<tr><td> 33617</td><td> 3</td><td>1</td></tr>\n",
       "\t<tr><td> 32704</td><td> 9</td><td>2</td></tr>\n",
       "\t<tr><td> 39331</td><td>10</td><td>3</td></tr>\n",
       "\t<tr><td> 99054</td><td>18</td><td>4</td></tr>\n",
       "\t<tr><td> 89431</td><td> 6</td><td>5</td></tr>\n",
       "\t<tr><td>128557</td><td>24</td><td>6</td></tr>\n",
       "</tbody>\n",
       "</table>\n"
      ],
      "text/latex": [
       "A tibble: 6 × 3\n",
       "\\begin{tabular}{lll}\n",
       " total\\_length & total\\_like & id\\\\\n",
       " <int> & <int> & <int>\\\\\n",
       "\\hline\n",
       "\t  33617 &  3 & 1\\\\\n",
       "\t  32704 &  9 & 2\\\\\n",
       "\t  39331 & 10 & 3\\\\\n",
       "\t  99054 & 18 & 4\\\\\n",
       "\t  89431 &  6 & 5\\\\\n",
       "\t 128557 & 24 & 6\\\\\n",
       "\\end{tabular}\n"
      ],
      "text/markdown": [
       "\n",
       "A tibble: 6 × 3\n",
       "\n",
       "| total_length &lt;int&gt; | total_like &lt;int&gt; | id &lt;int&gt; |\n",
       "|---|---|---|\n",
       "|  33617 |  3 | 1 |\n",
       "|  32704 |  9 | 2 |\n",
       "|  39331 | 10 | 3 |\n",
       "|  99054 | 18 | 4 |\n",
       "|  89431 |  6 | 5 |\n",
       "| 128557 | 24 | 6 |\n",
       "\n"
      ],
      "text/plain": [
       "  total_length total_like id\n",
       "1  33617        3         1 \n",
       "2  32704        9         2 \n",
       "3  39331       10         3 \n",
       "4  99054       18         4 \n",
       "5  89431        6         5 \n",
       "6 128557       24         6 "
      ]
     },
     "metadata": {},
     "output_type": "display_data"
    }
   ],
   "source": [
    "ds_disc1 <- ds_disc %>% \n",
    "    select(actor_id,\n",
    "          discussion_topic_title,\n",
    "          post_message_length,\n",
    "          count_of_likes) %>% \n",
    "    filter(grepl('LEARNER', actor_id))  %>% \n",
    "    group_by(actor_id) %>% \n",
    "    summarise(total_length = sum(post_message_length),\n",
    "             total_like = sum(count_of_likes)) %>% \n",
    "    mutate(id = as.integer(str_extract(actor_id, \"[0-9]+\"))) %>% \n",
    "    arrange(id)  %>% \n",
    "    select(-actor_id)\n",
    "    \n",
    "    \n",
    "head(ds_disc1)"
   ]
  },
  {
   "cell_type": "code",
   "execution_count": 257,
   "id": "ec6e77c2",
   "metadata": {},
   "outputs": [
    {
     "name": "stderr",
     "output_type": "stream",
     "text": [
      "\u001b[1m\u001b[22m`summarise()` has grouped output by 'actor_id'. You can override using the `.groups` argument.\n"
     ]
    },
    {
     "data": {
      "text/html": [
       "<table class=\"dataframe\">\n",
       "<caption>A grouped_df: 3 × 8</caption>\n",
       "<thead>\n",
       "\t<tr><th scope=col>actor_id</th><th scope=col>event__object_extensions_asset_name</th><th scope=col>start_time</th><th scope=col>end_time</th><th scope=col>id</th><th scope=col>due_at</th><th scope=col>duration</th><th scope=col>grade</th></tr>\n",
       "\t<tr><th scope=col>&lt;chr&gt;</th><th scope=col>&lt;chr&gt;</th><th scope=col>&lt;date&gt;</th><th scope=col>&lt;date&gt;</th><th scope=col>&lt;int&gt;</th><th scope=col>&lt;date&gt;</th><th scope=col>&lt;dbl&gt;</th><th scope=col>&lt;dbl&gt;</th></tr>\n",
       "</thead>\n",
       "<tbody>\n",
       "\t<tr><td>LEARNER_1</td><td>Assignment 1           </td><td>2033-01-16</td><td>2033-04-26</td><td>1</td><td>2033-02-05</td><td>20</td><td>79</td></tr>\n",
       "\t<tr><td>LEARNER_1</td><td>Assignment 2           </td><td>2033-01-19</td><td>2033-04-26</td><td>1</td><td>2033-03-05</td><td>45</td><td>84</td></tr>\n",
       "\t<tr><td>LEARNER_1</td><td>Assignment 3 (option A)</td><td>2033-03-19</td><td>2033-04-24</td><td>1</td><td>2033-04-09</td><td>21</td><td>NA</td></tr>\n",
       "</tbody>\n",
       "</table>\n"
      ],
      "text/latex": [
       "A grouped\\_df: 3 × 8\n",
       "\\begin{tabular}{llllllll}\n",
       " actor\\_id & event\\_\\_object\\_extensions\\_asset\\_name & start\\_time & end\\_time & id & due\\_at & duration & grade\\\\\n",
       " <chr> & <chr> & <date> & <date> & <int> & <date> & <dbl> & <dbl>\\\\\n",
       "\\hline\n",
       "\t LEARNER\\_1 & Assignment 1            & 2033-01-16 & 2033-04-26 & 1 & 2033-02-05 & 20 & 79\\\\\n",
       "\t LEARNER\\_1 & Assignment 2            & 2033-01-19 & 2033-04-26 & 1 & 2033-03-05 & 45 & 84\\\\\n",
       "\t LEARNER\\_1 & Assignment 3 (option A) & 2033-03-19 & 2033-04-24 & 1 & 2033-04-09 & 21 & NA\\\\\n",
       "\\end{tabular}\n"
      ],
      "text/markdown": [
       "\n",
       "A grouped_df: 3 × 8\n",
       "\n",
       "| actor_id &lt;chr&gt; | event__object_extensions_asset_name &lt;chr&gt; | start_time &lt;date&gt; | end_time &lt;date&gt; | id &lt;int&gt; | due_at &lt;date&gt; | duration &lt;dbl&gt; | grade &lt;dbl&gt; |\n",
       "|---|---|---|---|---|---|---|---|\n",
       "| LEARNER_1 | Assignment 1            | 2033-01-16 | 2033-04-26 | 1 | 2033-02-05 | 20 | 79 |\n",
       "| LEARNER_1 | Assignment 2            | 2033-01-19 | 2033-04-26 | 1 | 2033-03-05 | 45 | 84 |\n",
       "| LEARNER_1 | Assignment 3 (option A) | 2033-03-19 | 2033-04-24 | 1 | 2033-04-09 | 21 | NA |\n",
       "\n"
      ],
      "text/plain": [
       "  actor_id  event__object_extensions_asset_name start_time end_time   id\n",
       "1 LEARNER_1 Assignment 1                        2033-01-16 2033-04-26 1 \n",
       "2 LEARNER_1 Assignment 2                        2033-01-19 2033-04-26 1 \n",
       "3 LEARNER_1 Assignment 3 (option A)             2033-03-19 2033-04-24 1 \n",
       "  due_at     duration grade\n",
       "1 2033-02-05 20       79   \n",
       "2 2033-03-05 45       84   \n",
       "3 2033-04-09 21       NA   "
      ]
     },
     "metadata": {},
     "output_type": "display_data"
    }
   ],
   "source": [
    "ds1 <- ds %>% \n",
    "    mutate(event__object_extensions_asset_name = gsub(\"Assignment 1:\", \"Assignment 1\", event__object_extensions_asset_name)) %>% \n",
    "    group_by(actor_id,event__object_extensions_asset_name) %>% \n",
    "    summarise(start_time = min(event_time),\n",
    "             end_time = max(event_time)) %>% \n",
    "    filter(grepl('LEARNER', actor_id)) %>% \n",
    "    filter(grepl('Assignment', event__object_extensions_asset_name)) %>% \n",
    "    mutate(id = as.integer(str_extract(actor_id, \"[0-9]+\"))) %>% \n",
    "    arrange(id) %>% \n",
    "    filter(event__object_extensions_asset_name %in%  Ass) %>% \n",
    "    left_join(ds_ass,by = c(\"event__object_extensions_asset_name\" = \"name\")) %>% \n",
    "    mutate(duration = ifelse(end_time > due_at, due_at - start_time, end_time - start_time)) %>% \n",
    "    left_join(ds_grade1,by = c(\"id\" = \"id\", \"event__object_extensions_asset_name\" = \"Assignment Name\"))\n",
    "\n",
    "ds1$grade <- as.numeric(ds1$grade)\n",
    "\n",
    "head(ds1,3)"
   ]
  },
  {
   "cell_type": "code",
   "execution_count": 309,
   "id": "f481e1dc",
   "metadata": {},
   "outputs": [],
   "source": [
    "ds_grade2 <- ds_grade %>% \n",
    "    select(id, Current.Score)"
   ]
  },
  {
   "cell_type": "code",
   "execution_count": 314,
   "id": "8c929411",
   "metadata": {},
   "outputs": [
    {
     "data": {
      "text/html": [
       "<table class=\"dataframe\">\n",
       "<caption>A tibble: 6 × 5</caption>\n",
       "<thead>\n",
       "\t<tr><th scope=col>id</th><th scope=col>mean_duration</th><th scope=col>mean_grade</th><th scope=col>total_length</th><th scope=col>total_like</th></tr>\n",
       "\t<tr><th scope=col>&lt;int&gt;</th><th scope=col>&lt;dbl&gt;</th><th scope=col>&lt;dbl&gt;</th><th scope=col>&lt;int&gt;</th><th scope=col>&lt;int&gt;</th></tr>\n",
       "</thead>\n",
       "<tbody>\n",
       "\t<tr><td>1</td><td>33.80000</td><td>80.9</td><td> 33617</td><td> 3</td></tr>\n",
       "\t<tr><td>2</td><td>50.33333</td><td>84.6</td><td> 32704</td><td> 9</td></tr>\n",
       "\t<tr><td>3</td><td>13.66667</td><td>89.0</td><td> 39331</td><td>10</td></tr>\n",
       "\t<tr><td>4</td><td>38.16667</td><td>82.9</td><td> 99054</td><td>18</td></tr>\n",
       "\t<tr><td>5</td><td>39.50000</td><td>88.0</td><td> 89431</td><td> 6</td></tr>\n",
       "\t<tr><td>6</td><td>24.60000</td><td>92.2</td><td>128557</td><td>24</td></tr>\n",
       "</tbody>\n",
       "</table>\n"
      ],
      "text/latex": [
       "A tibble: 6 × 5\n",
       "\\begin{tabular}{lllll}\n",
       " id & mean\\_duration & mean\\_grade & total\\_length & total\\_like\\\\\n",
       " <int> & <dbl> & <dbl> & <int> & <int>\\\\\n",
       "\\hline\n",
       "\t 1 & 33.80000 & 80.9 &  33617 &  3\\\\\n",
       "\t 2 & 50.33333 & 84.6 &  32704 &  9\\\\\n",
       "\t 3 & 13.66667 & 89.0 &  39331 & 10\\\\\n",
       "\t 4 & 38.16667 & 82.9 &  99054 & 18\\\\\n",
       "\t 5 & 39.50000 & 88.0 &  89431 &  6\\\\\n",
       "\t 6 & 24.60000 & 92.2 & 128557 & 24\\\\\n",
       "\\end{tabular}\n"
      ],
      "text/markdown": [
       "\n",
       "A tibble: 6 × 5\n",
       "\n",
       "| id &lt;int&gt; | mean_duration &lt;dbl&gt; | mean_grade &lt;dbl&gt; | total_length &lt;int&gt; | total_like &lt;int&gt; |\n",
       "|---|---|---|---|---|\n",
       "| 1 | 33.80000 | 80.9 |  33617 |  3 |\n",
       "| 2 | 50.33333 | 84.6 |  32704 |  9 |\n",
       "| 3 | 13.66667 | 89.0 |  39331 | 10 |\n",
       "| 4 | 38.16667 | 82.9 |  99054 | 18 |\n",
       "| 5 | 39.50000 | 88.0 |  89431 |  6 |\n",
       "| 6 | 24.60000 | 92.2 | 128557 | 24 |\n",
       "\n"
      ],
      "text/plain": [
       "  id mean_duration mean_grade total_length total_like\n",
       "1 1  33.80000      80.9        33617        3        \n",
       "2 2  50.33333      84.6        32704        9        \n",
       "3 3  13.66667      89.0        39331       10        \n",
       "4 4  38.16667      82.9        99054       18        \n",
       "5 5  39.50000      88.0        89431        6        \n",
       "6 6  24.60000      92.2       128557       24        "
      ]
     },
     "metadata": {},
     "output_type": "display_data"
    }
   ],
   "source": [
    "ds2 <- ds1 %>% \n",
    "    group_by(id) %>% \n",
    "    summarise(mean_duration = mean(duration),\n",
    "             mean_grade = mean(grade,na.rm = T)) %>% \n",
    "    left_join(ds_disc1, by = c('id' = 'id')) %>% \n",
    "    left_join(ds_grade2, by = c('id' = 'id')) %>% \n",
    "    mutate(mean_grade = Current.Score) %>% \n",
    "    select(-Current.Score)\n",
    "\n",
    "ds2$mean_grade <- as.numeric(ds2$mean_grade)\n",
    "\n",
    "head(ds2)"
   ]
  },
  {
   "cell_type": "code",
   "execution_count": 315,
   "id": "1d0603d7",
   "metadata": {},
   "outputs": [
    {
     "data": {
      "text/html": [
       "0.620427647637599"
      ],
      "text/latex": [
       "0.620427647637599"
      ],
      "text/markdown": [
       "0.620427647637599"
      ],
      "text/plain": [
       "[1] 0.6204276"
      ]
     },
     "metadata": {},
     "output_type": "display_data"
    }
   ],
   "source": [
    "cor(ds2$total_like,ds2$mean_grade,use='complete.obs')"
   ]
  },
  {
   "cell_type": "code",
   "execution_count": 338,
   "id": "81b99758",
   "metadata": {},
   "outputs": [
    {
     "data": {
      "text/html": [
       "<table class=\"dataframe\">\n",
       "<caption>A tibble: 24 × 2</caption>\n",
       "<thead>\n",
       "\t<tr><th scope=col>hour</th><th scope=col>n</th></tr>\n",
       "\t<tr><th scope=col>&lt;chr&gt;</th><th scope=col>&lt;int&gt;</th></tr>\n",
       "</thead>\n",
       "<tbody>\n",
       "\t<tr><td>00</td><td>1234</td></tr>\n",
       "\t<tr><td>01</td><td>1266</td></tr>\n",
       "\t<tr><td>02</td><td>1790</td></tr>\n",
       "\t<tr><td>03</td><td>1878</td></tr>\n",
       "\t<tr><td>04</td><td>2611</td></tr>\n",
       "\t<tr><td>05</td><td>3230</td></tr>\n",
       "\t<tr><td>06</td><td>3606</td></tr>\n",
       "\t<tr><td>07</td><td>3443</td></tr>\n",
       "\t<tr><td>08</td><td>3721</td></tr>\n",
       "\t<tr><td>09</td><td>4501</td></tr>\n",
       "\t<tr><td>10</td><td>3908</td></tr>\n",
       "\t<tr><td>11</td><td>3901</td></tr>\n",
       "\t<tr><td>12</td><td>3792</td></tr>\n",
       "\t<tr><td>13</td><td>3178</td></tr>\n",
       "\t<tr><td>14</td><td>4101</td></tr>\n",
       "\t<tr><td>15</td><td>4680</td></tr>\n",
       "\t<tr><td>16</td><td>3444</td></tr>\n",
       "\t<tr><td>17</td><td>2602</td></tr>\n",
       "\t<tr><td>18</td><td>1932</td></tr>\n",
       "\t<tr><td>19</td><td>1285</td></tr>\n",
       "\t<tr><td>20</td><td> 871</td></tr>\n",
       "\t<tr><td>21</td><td> 631</td></tr>\n",
       "\t<tr><td>22</td><td> 541</td></tr>\n",
       "\t<tr><td>23</td><td> 693</td></tr>\n",
       "</tbody>\n",
       "</table>\n"
      ],
      "text/latex": [
       "A tibble: 24 × 2\n",
       "\\begin{tabular}{ll}\n",
       " hour & n\\\\\n",
       " <chr> & <int>\\\\\n",
       "\\hline\n",
       "\t 00 & 1234\\\\\n",
       "\t 01 & 1266\\\\\n",
       "\t 02 & 1790\\\\\n",
       "\t 03 & 1878\\\\\n",
       "\t 04 & 2611\\\\\n",
       "\t 05 & 3230\\\\\n",
       "\t 06 & 3606\\\\\n",
       "\t 07 & 3443\\\\\n",
       "\t 08 & 3721\\\\\n",
       "\t 09 & 4501\\\\\n",
       "\t 10 & 3908\\\\\n",
       "\t 11 & 3901\\\\\n",
       "\t 12 & 3792\\\\\n",
       "\t 13 & 3178\\\\\n",
       "\t 14 & 4101\\\\\n",
       "\t 15 & 4680\\\\\n",
       "\t 16 & 3444\\\\\n",
       "\t 17 & 2602\\\\\n",
       "\t 18 & 1932\\\\\n",
       "\t 19 & 1285\\\\\n",
       "\t 20 &  871\\\\\n",
       "\t 21 &  631\\\\\n",
       "\t 22 &  541\\\\\n",
       "\t 23 &  693\\\\\n",
       "\\end{tabular}\n"
      ],
      "text/markdown": [
       "\n",
       "A tibble: 24 × 2\n",
       "\n",
       "| hour &lt;chr&gt; | n &lt;int&gt; |\n",
       "|---|---|\n",
       "| 00 | 1234 |\n",
       "| 01 | 1266 |\n",
       "| 02 | 1790 |\n",
       "| 03 | 1878 |\n",
       "| 04 | 2611 |\n",
       "| 05 | 3230 |\n",
       "| 06 | 3606 |\n",
       "| 07 | 3443 |\n",
       "| 08 | 3721 |\n",
       "| 09 | 4501 |\n",
       "| 10 | 3908 |\n",
       "| 11 | 3901 |\n",
       "| 12 | 3792 |\n",
       "| 13 | 3178 |\n",
       "| 14 | 4101 |\n",
       "| 15 | 4680 |\n",
       "| 16 | 3444 |\n",
       "| 17 | 2602 |\n",
       "| 18 | 1932 |\n",
       "| 19 | 1285 |\n",
       "| 20 |  871 |\n",
       "| 21 |  631 |\n",
       "| 22 |  541 |\n",
       "| 23 |  693 |\n",
       "\n"
      ],
      "text/plain": [
       "   hour n   \n",
       "1  00   1234\n",
       "2  01   1266\n",
       "3  02   1790\n",
       "4  03   1878\n",
       "5  04   2611\n",
       "6  05   3230\n",
       "7  06   3606\n",
       "8  07   3443\n",
       "9  08   3721\n",
       "10 09   4501\n",
       "11 10   3908\n",
       "12 11   3901\n",
       "13 12   3792\n",
       "14 13   3178\n",
       "15 14   4101\n",
       "16 15   4680\n",
       "17 16   3444\n",
       "18 17   2602\n",
       "19 18   1932\n",
       "20 19   1285\n",
       "21 20    871\n",
       "22 21    631\n",
       "23 22    541\n",
       "24 23    693"
      ]
     },
     "metadata": {},
     "output_type": "display_data"
    },
    {
     "data": {
      "image/png": "[encoded data removed]",
      "text/plain": [
       "plot without title"
      ]
     },
     "metadata": {
      "image/png": {
       "height": 420,
       "width": 420
      }
     },
     "output_type": "display_data"
    }
   ],
   "source": [
    "dsf <- read.csv(\"D:/OneDrive - UBC/桌面/LA Hackthon/hack-la-2023/TeamOne/data/hackathon_alternate_data/navigation_events.csv\")\n",
    "dsf$event_time  <- as.POSIXct(dsf$event_time, format=\"%Y-%m-%d %H:%M:%OS\", tz=\"UTC\")\n",
    "dsf$hour <- format(dsf$event_time, \"%H\")\n",
    "\n",
    "ds_hour <- dsf %>% \n",
    "    group_by(hour) %>% \n",
    "    summarise(n = n())\n",
    "\n",
    "ds_hour\n",
    "plot(ds_hour)"
   ]
  },
  {
   "cell_type": "code",
   "execution_count": 342,
   "id": "6ae65f67",
   "metadata": {},
   "outputs": [
    {
     "name": "stderr",
     "output_type": "stream",
     "text": [
      "Warning message:\n",
      "\"\u001b[1m\u001b[22mReturning more (or less) than 1 row per `summarise()` group was deprecated in dplyr 1.1.0.\n",
      "\u001b[36mℹ\u001b[39m Please use `reframe()` instead.\n",
      "\u001b[36mℹ\u001b[39m When switching from `summarise()` to `reframe()`, remember that `reframe()` always returns an ungrouped data frame\n",
      "  and adjust accordingly.\"\n",
      "\u001b[1m\u001b[22m`summarise()` has grouped output by 'actor_id', 'hour'. You can override using the `.groups` argument.\n"
     ]
    },
    {
     "data": {
      "text/html": [
       "<table class=\"dataframe\">\n",
       "<caption>A tibble: 24 × 2</caption>\n",
       "<thead>\n",
       "\t<tr><th scope=col>hour</th><th scope=col>weighted_avg_actions</th></tr>\n",
       "\t<tr><th scope=col>&lt;chr&gt;</th><th scope=col>&lt;dbl&gt;</th></tr>\n",
       "</thead>\n",
       "<tbody>\n",
       "\t<tr><td>00</td><td>100.51980</td></tr>\n",
       "\t<tr><td>01</td><td>129.99125</td></tr>\n",
       "\t<tr><td>02</td><td>157.28761</td></tr>\n",
       "\t<tr><td>03</td><td>119.19196</td></tr>\n",
       "\t<tr><td>04</td><td>225.39223</td></tr>\n",
       "\t<tr><td>05</td><td>291.22628</td></tr>\n",
       "\t<tr><td>06</td><td>312.03117</td></tr>\n",
       "\t<tr><td>07</td><td>264.98002</td></tr>\n",
       "\t<tr><td>08</td><td>403.08485</td></tr>\n",
       "\t<tr><td>09</td><td>521.12931</td></tr>\n",
       "\t<tr><td>10</td><td>389.19630</td></tr>\n",
       "\t<tr><td>11</td><td>368.33277</td></tr>\n",
       "\t<tr><td>12</td><td>381.50304</td></tr>\n",
       "\t<tr><td>13</td><td>272.03229</td></tr>\n",
       "\t<tr><td>14</td><td>402.32498</td></tr>\n",
       "\t<tr><td>15</td><td>584.14079</td></tr>\n",
       "\t<tr><td>16</td><td>330.69016</td></tr>\n",
       "\t<tr><td>17</td><td>266.88744</td></tr>\n",
       "\t<tr><td>18</td><td>216.83209</td></tr>\n",
       "\t<tr><td>19</td><td>131.06290</td></tr>\n",
       "\t<tr><td>20</td><td> 64.73955</td></tr>\n",
       "\t<tr><td>21</td><td> 49.42660</td></tr>\n",
       "\t<tr><td>22</td><td> 33.27100</td></tr>\n",
       "\t<tr><td>23</td><td> 65.91247</td></tr>\n",
       "</tbody>\n",
       "</table>\n"
      ],
      "text/latex": [
       "A tibble: 24 × 2\n",
       "\\begin{tabular}{ll}\n",
       " hour & weighted\\_avg\\_actions\\\\\n",
       " <chr> & <dbl>\\\\\n",
       "\\hline\n",
       "\t 00 & 100.51980\\\\\n",
       "\t 01 & 129.99125\\\\\n",
       "\t 02 & 157.28761\\\\\n",
       "\t 03 & 119.19196\\\\\n",
       "\t 04 & 225.39223\\\\\n",
       "\t 05 & 291.22628\\\\\n",
       "\t 06 & 312.03117\\\\\n",
       "\t 07 & 264.98002\\\\\n",
       "\t 08 & 403.08485\\\\\n",
       "\t 09 & 521.12931\\\\\n",
       "\t 10 & 389.19630\\\\\n",
       "\t 11 & 368.33277\\\\\n",
       "\t 12 & 381.50304\\\\\n",
       "\t 13 & 272.03229\\\\\n",
       "\t 14 & 402.32498\\\\\n",
       "\t 15 & 584.14079\\\\\n",
       "\t 16 & 330.69016\\\\\n",
       "\t 17 & 266.88744\\\\\n",
       "\t 18 & 216.83209\\\\\n",
       "\t 19 & 131.06290\\\\\n",
       "\t 20 &  64.73955\\\\\n",
       "\t 21 &  49.42660\\\\\n",
       "\t 22 &  33.27100\\\\\n",
       "\t 23 &  65.91247\\\\\n",
       "\\end{tabular}\n"
      ],
      "text/markdown": [
       "\n",
       "A tibble: 24 × 2\n",
       "\n",
       "| hour &lt;chr&gt; | weighted_avg_actions &lt;dbl&gt; |\n",
       "|---|---|\n",
       "| 00 | 100.51980 |\n",
       "| 01 | 129.99125 |\n",
       "| 02 | 157.28761 |\n",
       "| 03 | 119.19196 |\n",
       "| 04 | 225.39223 |\n",
       "| 05 | 291.22628 |\n",
       "| 06 | 312.03117 |\n",
       "| 07 | 264.98002 |\n",
       "| 08 | 403.08485 |\n",
       "| 09 | 521.12931 |\n",
       "| 10 | 389.19630 |\n",
       "| 11 | 368.33277 |\n",
       "| 12 | 381.50304 |\n",
       "| 13 | 272.03229 |\n",
       "| 14 | 402.32498 |\n",
       "| 15 | 584.14079 |\n",
       "| 16 | 330.69016 |\n",
       "| 17 | 266.88744 |\n",
       "| 18 | 216.83209 |\n",
       "| 19 | 131.06290 |\n",
       "| 20 |  64.73955 |\n",
       "| 21 |  49.42660 |\n",
       "| 22 |  33.27100 |\n",
       "| 23 |  65.91247 |\n",
       "\n"
      ],
      "text/plain": [
       "   hour weighted_avg_actions\n",
       "1  00   100.51980           \n",
       "2  01   129.99125           \n",
       "3  02   157.28761           \n",
       "4  03   119.19196           \n",
       "5  04   225.39223           \n",
       "6  05   291.22628           \n",
       "7  06   312.03117           \n",
       "8  07   264.98002           \n",
       "9  08   403.08485           \n",
       "10 09   521.12931           \n",
       "11 10   389.19630           \n",
       "12 11   368.33277           \n",
       "13 12   381.50304           \n",
       "14 13   272.03229           \n",
       "15 14   402.32498           \n",
       "16 15   584.14079           \n",
       "17 16   330.69016           \n",
       "18 17   266.88744           \n",
       "19 18   216.83209           \n",
       "20 19   131.06290           \n",
       "21 20    64.73955           \n",
       "22 21    49.42660           \n",
       "23 22    33.27100           \n",
       "24 23    65.91247           "
      ]
     },
     "metadata": {},
     "output_type": "display_data"
    }
   ],
   "source": [
    "# Calculate the total number of active hours per student\n",
    "student_hours <- dsf %>%\n",
    "  group_by(actor_id) %>%\n",
    "  summarise(active_hours = n())\n",
    "\n",
    "# Join the active hours back to the main dataframe\n",
    "dsf <- dsf %>%\n",
    "  left_join(student_hours, by = \"actor_id\")\n",
    "\n",
    "# Calculate the number of actions per active hour for each student\n",
    "dsf <- dsf %>%\n",
    "  group_by(actor_id, hour) %>%\n",
    "  summarise(actions_count = n(),\n",
    "            actions_per_active_hour = actions_count / active_hours)\n",
    "\n",
    "# Calculate the weighted average of actions per active hour for each hour\n",
    "hourly_activity_weighted <- dsf %>%\n",
    "  group_by(hour) %>%\n",
    "  summarise(weighted_avg_actions = sum(actions_per_active_hour, na.rm = TRUE))\n",
    "\n",
    "# View the result\n",
    "hourly_activity_weighted"
   ]
  },
  {
   "cell_type": "code",
   "execution_count": 344,
   "id": "d90d0b8f",
   "metadata": {},
   "outputs": [
    {
     "data": {
      "image/png": "[encoded data removed]",
      "text/plain": [
       "plot without title"
      ]
     },
     "metadata": {
      "image/png": {
       "height": 420,
       "width": 420
      }
     },
     "output_type": "display_data"
    },
    {
     "data": {
      "image/png": "[encoded data removed]",
      "text/plain": [
       "plot without title"
      ]
     },
     "metadata": {
      "image/png": {
       "height": 420,
       "width": 420
      }
     },
     "output_type": "display_data"
    }
   ],
   "source": [
    "plot(hourly_activity_weighted)\n",
    "plot(ds_hour)"
   ]
  },
  {
   "cell_type": "code",
   "execution_count": 352,
   "id": "70d447c9",
   "metadata": {},
   "outputs": [
    {
     "data": {
      "image/png": "[encoded data removed]",
      "text/plain": [
       "plot without title"
      ]
     },
     "metadata": {
      "image/png": {
       "height": 420,
       "width": 420
      }
     },
     "output_type": "display_data"
    }
   ],
   "source": [
    "ds_hour$hour <- as.numeric(ds_hour$hour)\n",
    "ds_hour %>% \n",
    "    ggplot(aes(hour,n)) + \n",
    "    geom_line()"
   ]
  },
  {
   "cell_type": "markdown",
   "id": "62e182bb",
   "metadata": {},
   "source": [
    "# Model"
   ]
  },
  {
   "cell_type": "code",
   "execution_count": 353,
   "id": "ea1bb657",
   "metadata": {},
   "outputs": [
    {
     "data": {
      "text/plain": [
       "\n",
       "Call:\n",
       "lm(formula = mean_grade ~ mean_duration + total_length + total_like + \n",
       "    total_length:total_like, data = ds2)\n",
       "\n",
       "Residuals:\n",
       "   Min     1Q Median     3Q    Max \n",
       "-9.096 -3.238  1.396  2.544  6.992 \n",
       "\n",
       "Coefficients:\n",
       "                          Estimate Std. Error t value Pr(>|t|)    \n",
       "(Intercept)              6.912e+01  2.628e+00  26.298  < 2e-16 ***\n",
       "mean_duration            1.964e-02  5.319e-02   0.369  0.71476    \n",
       "total_length             1.954e-04  6.345e-05   3.080  0.00460 ** \n",
       "total_like               1.035e+00  2.776e-01   3.727  0.00087 ***\n",
       "total_length:total_like -1.101e-05  3.947e-06  -2.789  0.00939 ** \n",
       "---\n",
       "Signif. codes:  0 '***' 0.001 '**' 0.01 '*' 0.05 '.' 0.1 ' ' 1\n",
       "\n",
       "Residual standard error: 4.595 on 28 degrees of freedom\n",
       "  (9 observations deleted due to missingness)\n",
       "Multiple R-squared:  0.5637,\tAdjusted R-squared:  0.5014 \n",
       "F-statistic: 9.044 on 4 and 28 DF,  p-value: 8.056e-05\n"
      ]
     },
     "metadata": {},
     "output_type": "display_data"
    }
   ],
   "source": [
    "m <- lm(mean_grade ~ mean_duration + total_length + total_like + total_length:total_like,ds2)\n",
    "summary(m)"
   ]
  },
  {
   "cell_type": "code",
   "execution_count": null,
   "id": "d476fb40",
   "metadata": {},
   "outputs": [],
   "source": []
  }
 ],
 "metadata": {
  "kernelspec": {
   "display_name": "R",
   "language": "R",
   "name": "ir"
  },
  "language_info": {
   "codemirror_mode": "r",
   "file_extension": ".r",
   "mimetype": "text/x-r-source",
   "name": "R",
   "pygments_lexer": "r",
   "version": "4.3.0"
  }
 },
 "nbformat": 4,
 "nbformat_minor": 5
}
